{
 "cells": [
  {
   "cell_type": "code",
   "execution_count": 1,
   "id": "9cadac9a-710e-4a11-a128-7269d2755261",
   "metadata": {},
   "outputs": [],
   "source": [
    "import pandas as pd\n",
    "import numpy as np\n",
    "import matplotlib.pyplot as plt\n",
    "import seaborn as sns"
   ]
  },
  {
   "cell_type": "markdown",
   "id": "89e8d583-fb3d-4cb9-acf6-8ebd61555ea1",
   "metadata": {
    "tags": []
   },
   "source": [
    "### Exchange Description\n",
    "\n",
    "I want the exchange to handle two kinds of orders:\n",
    "* continuous buy orders in both directions\n",
    "* normal buy orders in both directions\n",
    "\n",
    "The in order to do this, a ETH/USDT exchange must be able to access the following variables\n",
    "* the current amount of stream buying in each direction\n",
    "* what accounts own what percent of stream buying in each direction (for redistributing returned tokens)\n",
    "\n",
    "When a normal buy order arrives the reserves for both assets are updated\n",
    "\n",
    "When a buy stream is opened or closed, the following are updated\n",
    "* the current amount of stream buying in that direction\n",
    "* the account ownership percentages of that stream\n",
    "\n",
    "### Simplest case: \n",
    "\n",
    "Let's say that there is a stream buying 100,000 USDT worth of ETH per month and another buying 10 ETH worth of USDT per month.\n",
    "The exchange has 10,000,000 USDT and 2,500 ETH, setting the initial price at 4000 USDT per ETH\n",
    "\n",
    "$R_{eth} = 2500$ ETH\n",
    "\n",
    "$R_{usd} = 10,000,000$ USDT\n",
    "\n",
    "This stream of exchanges is best understood as the cummulative effect of many discrete 1 second exchanges.\n",
    "\n",
    "Within a 1 second interval, one side buys a discrete amount of ETH and the other buys a different discrete amount of USDT.\n",
    "Because uniswap is a constant product exchange, the final price after these two transactions does not depend on their order.\n",
    "\n",
    "Thus, the average execution price, in the *no-fee case* is just the geometric mean between the initial price and final price.\n",
    "\n",
    "With fees, this calculation becomes more complicated. \n",
    "\n",
    "It turns out that the coins received equals **the number of coins sent multiplied by the zero-fee \n",
    "geometric mean exchange rate minus the difference in the final reserve quantities of the zero-fee and fee purchase**. The code\n",
    "below expresses this formula.\n",
    "\n",
    "Because the answer is stable and discrete, the amount of tokens sent within a 1 second interval (say 10 seconds from the last \n",
    "update) is the amount sent after 10 seconds minus the amount sent after 9 seconds. It could of course also be run every second \n",
    "based on the current reserve balances but I'm not sure if this is exactly how Superfluid streaming works."
   ]
  },
  {
   "cell_type": "code",
   "execution_count": 2,
   "id": "ad572aaf-6aa7-4680-8e37-0d6b94cb25c0",
   "metadata": {},
   "outputs": [],
   "source": [
    "r_eth = 2500\n",
    "r_usd = 10000000\n",
    "fee = .997\n",
    "\n",
    "streaming_usd = .038  # per second\n",
    "streaming_eth = .0000038"
   ]
  },
  {
   "cell_type": "code",
   "execution_count": 3,
   "id": "699748d1-e2ba-4846-a1a3-b49634315bb6",
   "metadata": {},
   "outputs": [],
   "source": [
    "def buy(r_a, r_b, d_b, fee):\n",
    "    \"\"\" returns amount of asset a purchased and new reserve sizes \"\"\"\n",
    "    d_a = r_a - (r_a * r_b / (r_b + fee * d_b))\n",
    "    r_a = r_a - d_a\n",
    "    r_b = r_b + d_b\n",
    "    \n",
    "    return r_a, r_b, d_a"
   ]
  },
  {
   "cell_type": "code",
   "execution_count": 21,
   "id": "7178e4d6-9f73-46f0-ad4b-599dca136552",
   "metadata": {},
   "outputs": [],
   "source": [
    "def get_stream_payouts(usd, eth, r_eth, r_usd, fee):\n",
    "    \"\"\" based on streaming inputs, determine correct streaming outputs for uniswap V2 exchange \n",
    "        usd and eth are fixed based on total entering streams\n",
    "        r_eth and r_usd are the current reserves \"\"\"\n",
    "    initial_price = r_usd / r_eth\n",
    "    print('initial_price', initial_price)\n",
    "    \n",
    "    f_eth1, f_usd1, fd_eth2 = buy(r_eth, r_usd, usd, 1)  # feeless\n",
    "    feeless_usd2, feeless_eth2, fd_usd2 = buy(f_usd1, f_eth1, eth, 1)\n",
    "    feeless_price = feeless_usd2 / feeless_eth2\n",
    "    geometric_price = np.sqrt(feeless_price*initial_price)\n",
    "    print('geometric mean price', geometric_price)\n",
    "    \n",
    "    r_eth1, r_usd1, d_eth2 = buy(r_eth, r_usd, usd, fee)\n",
    "    r_usd2, r_eth2, d_usd2 = buy(r_usd1, r_eth1, eth, fee)\n",
    "    correct_final_price = r_usd2 / r_eth2 \n",
    "    print('correct final price', correct_final_price)\n",
    "    \n",
    "    usd_fee = r_usd2 - feeless_usd2\n",
    "    eth_fee = r_eth2 - feeless_eth2\n",
    "    \n",
    "    usd_returned = eth * geometric_price - usd_fee\n",
    "    eth_returned = usd / geometric_price - eth_fee\n",
    "    \n",
    "    feeless_usd2 += fd_usd2 - usd_returned\n",
    "    feeless_eth2 += fd_eth2 - eth_returned\n",
    "    \n",
    "    actual_final_price = feeless_usd2 / feeless_eth2\n",
    "    print('actual_final_price', actual_final_price)\n",
    "    \n",
    "    usd_stream_price = None if usd == 0 else usd / eth_returned\n",
    "    eth_stream_price = None if eth == 0 else usd_returned / eth\n",
    "    print('usd stream avg price: ', usd_stream_price)\n",
    "    print('eth stream avg price: ', eth_stream_price)\n",
    "    \n",
    "    return usd_returned, eth_returned, r_usd2, r_eth2"
   ]
  },
  {
   "cell_type": "markdown",
   "id": "fd3de763-4af5-4d84-b6fc-33ee9bae5580",
   "metadata": {},
   "source": [
    "### The case without fees and one direction stream"
   ]
  },
  {
   "cell_type": "code",
   "execution_count": 13,
   "id": "f3b1565a-041a-452a-aaab-8a789373e556",
   "metadata": {},
   "outputs": [
    {
     "name": "stdout",
     "output_type": "stream",
     "text": [
      "initial_price 4000.0\n",
      "geometric mean price 4000.0000152000002\n",
      "correct final price 4000.0000304000005\n",
      "actual_final_price 4000.0000304000005\n",
      "usd stream avg price:  4000.0000152\n",
      "eth stream avg price:  None\n"
     ]
    }
   ],
   "source": [
    "usd_returned, eth_returned, r_usd2, r_eth2 = get_stream_payouts(streaming_usd, 0, r_eth, r_usd, 1)"
   ]
  },
  {
   "cell_type": "markdown",
   "id": "d6a04e59-ff27-4013-86c1-f8624c320a67",
   "metadata": {},
   "source": [
    "### same case with fees"
   ]
  },
  {
   "cell_type": "code",
   "execution_count": 15,
   "id": "a7701253-0339-4d56-9434-30e984acb217",
   "metadata": {},
   "outputs": [
    {
     "name": "stdout",
     "output_type": "stream",
     "text": [
      "initial_price 4000.0\n",
      "geometric mean price 4000.0000152000002\n",
      "correct final price 4000.0000303543998\n",
      "actual_final_price 4000.0000303543998\n",
      "usd stream avg price:  4012.03628488681\n",
      "eth stream avg price:  None\n"
     ]
    }
   ],
   "source": [
    "usd_returned, eth_returned, r_usd2, r_eth2 = get_stream_payouts(streaming_usd, 0, r_eth, r_usd, .997)"
   ]
  },
  {
   "cell_type": "markdown",
   "id": "cfe4a914-9e42-4dcb-be64-b327df06d3ac",
   "metadata": {},
   "source": [
    "### The case without fees and two streams (one very small)"
   ]
  },
  {
   "cell_type": "code",
   "execution_count": 16,
   "id": "f8b8f4df-fff9-4639-8859-0a2ae6d26e02",
   "metadata": {},
   "outputs": [
    {
     "name": "stdout",
     "output_type": "stream",
     "text": [
      "initial_price 4000.0\n",
      "geometric mean price 4000.000015184\n",
      "correct final price 4000.0000303680004\n",
      "actual_final_price 4000.0000303680004\n",
      "usd stream avg price:  4000.000015184\n",
      "eth stream avg price:  4000.0000151840004\n"
     ]
    }
   ],
   "source": [
    "usd_returned, eth_returned, r_usd2, r_eth2 = get_stream_payouts(streaming_usd, .00000001, r_eth, r_usd, 1)"
   ]
  },
  {
   "cell_type": "markdown",
   "id": "3e635282-17ca-425b-bae0-90315a0fafcd",
   "metadata": {},
   "source": [
    "### with fees"
   ]
  },
  {
   "cell_type": "code",
   "execution_count": 17,
   "id": "74968882-8f5d-47ce-a034-d2825f11af4a",
   "metadata": {},
   "outputs": [
    {
     "name": "stdout",
     "output_type": "stream",
     "text": [
      "initial_price 4000.0\n",
      "geometric mean price 4000.000015184\n",
      "correct final price 4000.0000303224483\n",
      "actual_final_price 4000.0000303224483\n",
      "usd stream avg price:  4012.036284870713\n",
      "eth stream avg price:  3987.892821713999\n"
     ]
    }
   ],
   "source": [
    "usd_returned, eth_returned, r_usd2, r_eth2 = get_stream_payouts(streaming_usd, .00000001, r_eth, r_usd, .997)"
   ]
  },
  {
   "cell_type": "markdown",
   "id": "86e06afa-e7c5-4d91-a4ee-746aa3f59a79",
   "metadata": {},
   "source": [
    "### The case without fees and two streams (similar sizes)"
   ]
  },
  {
   "cell_type": "code",
   "execution_count": 18,
   "id": "88ce27ed-c161-404a-8598-c6add82f01a5",
   "metadata": {},
   "outputs": [
    {
     "name": "stdout",
     "output_type": "stream",
     "text": [
      "initial_price 4000.0\n",
      "geometric mean price 4000.0000091200004\n",
      "correct final price 4000.0000182400004\n",
      "actual_final_price 4000.0000182400004\n",
      "usd stream avg price:  4000.0000091200004\n",
      "eth stream avg price:  4000.0000091200004\n"
     ]
    }
   ],
   "source": [
    "usd_returned, eth_returned, r_usd2, r_eth2 = get_stream_payouts(streaming_usd, streaming_eth, r_eth, r_usd, 1)"
   ]
  },
  {
   "cell_type": "markdown",
   "id": "f391df05-855e-4925-a83c-eff8d204b481",
   "metadata": {},
   "source": [
    "### with fees"
   ]
  },
  {
   "cell_type": "code",
   "execution_count": 19,
   "id": "f1500531-f133-4b39-91bb-e2d9cb83dc4b",
   "metadata": {},
   "outputs": [
    {
     "name": "stdout",
     "output_type": "stream",
     "text": [
      "initial_price 4000.0\n",
      "geometric mean price 4000.0000091200004\n",
      "correct final price 4000.0000182126396\n",
      "actual_final_price 4000.0000182126396\n",
      "usd stream avg price:  4012.0362787701647\n",
      "eth stream avg price:  3988.0001628309683\n"
     ]
    }
   ],
   "source": [
    "usd_returned, eth_returned, r_usd2, r_eth2 = get_stream_payouts(streaming_usd, streaming_eth, r_eth, r_usd, .997)"
   ]
  },
  {
   "cell_type": "markdown",
   "id": "36ff6aeb-de85-4235-82cf-ab965acf4630",
   "metadata": {},
   "source": [
    "## what values need to be updated during a new or closed stream?\n",
    "\n",
    "I envision all streams to the exchange routing to a single address which reroutes an aggregated stream to the exchange\n",
    "that contract then sends back the returned tokens depending on each users percent of the stream.\n",
    "\n",
    "When a stream opens or closes, that routing contract must update the weight values and change the size of the stream\n",
    "to the streaming exchange."
   ]
  },
  {
   "cell_type": "markdown",
   "id": "19d28df2-d9d3-4456-b327-630835ab2674",
   "metadata": {},
   "source": [
    "### what values need to be updated during a normal trade?\n",
    "\n",
    "Because all normal trades occur during a single block and single second, this just changes the reserve balances which will effect the number of \n",
    "tokens streamed over the next block."
   ]
  }
 ],
 "metadata": {
  "kernelspec": {
   "display_name": "Python 3 (ipykernel)",
   "language": "python",
   "name": "python3"
  },
  "language_info": {
   "codemirror_mode": {
    "name": "ipython",
    "version": 3
   },
   "file_extension": ".py",
   "mimetype": "text/x-python",
   "name": "python",
   "nbconvert_exporter": "python",
   "pygments_lexer": "ipython3",
   "version": "3.9.7"
  }
 },
 "nbformat": 4,
 "nbformat_minor": 5
}
